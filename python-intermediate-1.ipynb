{
 "cells": [
  {
   "cell_type": "markdown",
   "id": "1ccf5448",
   "metadata": {},
   "source": [
    "<img align=\"left\" src=\"https://ithaka-labs.s3.amazonaws.com/static-files/images/tdm/tdmdocs/CC_BY.png\"><br />\n",
    "\n",
    "Created by [Nathan Kelber](http://nkelber.com) and Zhuo Chen under [Creative Commons CC BY License](https://creativecommons.org/licenses/by/4.0/)<br />\n",
    "For questions/comments/improvements, email nathan.kelber@ithaka.org or zhuo.chen@ithaka.org.<br />\n",
    "___"
   ]
  },
  {
   "cell_type": "markdown",
   "id": "cf138ba2",
   "metadata": {},
   "source": [
    "# Python Intermediate 1\n",
    "\n",
    "**Description:** This notebook describes:\n",
    "\n",
    "* What a list comprehension is\n",
    "* What a dictionary comprehension is\n",
    "* What a set comprehension is\n",
    "\n",
    "**Use Case:** For Learners (Detailed explanation, not ideal for researchers)\n",
    "\n",
    "**Difficulty:** Intermediate\n",
    "\n",
    "**Completion Time:** 90 minutes\n",
    "\n",
    "**Knowledge Required:** \n",
    "* Python Basics Series ([Start Python Basics 1](./python-basics-1.ipynb))\n",
    "\n",
    "**Knowledge Recommended:** None\n",
    "\n",
    "**Data Format:** None\n",
    "\n",
    "**Libraries Used:** NLTK\n",
    "\n",
    "**Research Pipeline:** None\n",
    "___"
   ]
  },
  {
   "cell_type": "markdown",
   "id": "982b0625",
   "metadata": {},
   "source": [
    "## What is a Python Comprehension?\n",
    "Comprehensions in Python are constructs that allow us to build new sequences (such as lists, sets, dictionaries etc.) from sequences that are already defined. Python supports four types of comprehensions:\n",
    "* List comprehensions\n",
    "* Dictionary comprehensions\n",
    "* Set comprehensions\n",
    "* Generator comprehensions (to be presented in [Python intermediate 5](./python-intermediate-5.ipynb))"
   ]
  },
  {
   "cell_type": "markdown",
   "id": "048475bc",
   "metadata": {},
   "source": [
    "## List comprehensions\n",
    "### List comprehensions (Integers)"
   ]
  },
  {
   "cell_type": "markdown",
   "id": "7e8ac8a1",
   "metadata": {},
   "source": [
    "Suppose you are a parent of a 4-month-old. You are taking record of your baby's daily milk intake in ounces. Here is your record from last week. "
   ]
  },
  {
   "cell_type": "code",
   "execution_count": 1,
   "id": "0cc2030f",
   "metadata": {
    "execution": {
     "iopub.execute_input": "2023-10-23T01:30:13.109248Z",
     "iopub.status.busy": "2023-10-23T01:30:13.109093Z",
     "iopub.status.idle": "2023-10-23T01:30:13.114712Z",
     "shell.execute_reply": "2023-10-23T01:30:13.114143Z",
     "shell.execute_reply.started": "2023-10-23T01:30:13.109231Z"
    },
    "tags": []
   },
   "outputs": [],
   "source": [
    "# record of daily milk intake\n",
    "milk = [36, 38, 40, 36, 42, 38, 36]"
   ]
  },
  {
   "cell_type": "markdown",
   "id": "97087744",
   "metadata": {},
   "source": [
    "Your partner is French and is used to the metric system. Your partner wants to convert the numbers into mililiters. \n",
    "\n",
    "1 ounce $\\approx$ 30 mililiters\n",
    "\n",
    "|Operator| Operation| Example | Evaluation |\n",
    "|---|----|---|---|\n",
    "|*| Multiplication | 7 * 8 | 56 |"
   ]
  },
  {
   "cell_type": "code",
   "execution_count": 2,
   "id": "d40aa4ad",
   "metadata": {
    "execution": {
     "iopub.execute_input": "2023-10-23T01:30:13.116848Z",
     "iopub.status.busy": "2023-10-23T01:30:13.116379Z",
     "iopub.status.idle": "2023-10-23T01:30:13.120410Z",
     "shell.execute_reply": "2023-10-23T01:30:13.119834Z",
     "shell.execute_reply.started": "2023-10-23T01:30:13.116822Z"
    },
    "tags": []
   },
   "outputs": [
    {
     "name": "stdout",
     "output_type": "stream",
     "text": [
      "[1080, 1140, 1200, 1080, 1260, 1140, 1080]\n"
     ]
    }
   ],
   "source": [
    "# Create a new list using a for loop\n",
    "\n",
    "new_list = [] # An empty list we will add to\n",
    "\n",
    "for number in milk:\n",
    "    new_list.append(number * 30)\n",
    "\n",
    "print(new_list)"
   ]
  },
  {
   "cell_type": "markdown",
   "id": "0f1fb461",
   "metadata": {},
   "source": [
    "Take a look again at the for loop.\n",
    "```\n",
    "for number in milk:\n",
    "    new_list.append(number * 30)\n",
    "```\n",
    "\n",
    "We can read this as: for ```number``` in ```milk```, append `number` multiplied by 30 to ```new_list```. "
   ]
  },
  {
   "cell_type": "markdown",
   "id": "4c83e5ae",
   "metadata": {},
   "source": [
    "Using a for loop to create a new list is familar to us. We have learned it in the Python Basics series.\n",
    "\n",
    "Alternatively, we can also use a list comprehension to create a new list. Let's rearrange the above for loop slightly to write a list comprehension.  "
   ]
  },
  {
   "cell_type": "code",
   "execution_count": 3,
   "id": "d619de2d",
   "metadata": {
    "execution": {
     "iopub.execute_input": "2023-10-23T01:30:13.121679Z",
     "iopub.status.busy": "2023-10-23T01:30:13.121288Z",
     "iopub.status.idle": "2023-10-23T01:30:13.125130Z",
     "shell.execute_reply": "2023-10-23T01:30:13.124560Z",
     "shell.execute_reply.started": "2023-10-23T01:30:13.121653Z"
    },
    "tags": []
   },
   "outputs": [
    {
     "name": "stdout",
     "output_type": "stream",
     "text": [
      "[1080, 1140, 1200, 1080, 1260, 1140, 1080]\n"
     ]
    }
   ],
   "source": [
    "# Create a new list of milk intake in mililiters\n",
    "\n",
    "new_list = [number * 30 for number in milk] ## The brackets [] indicate we are creating a list\n",
    "\n",
    "print(new_list)"
   ]
  },
  {
   "cell_type": "markdown",
   "id": "1cb1d8da",
   "metadata": {},
   "source": [
    "We read this as: append ```number``` multiplied by 30, for ```number``` in ```milk```."
   ]
  },
  {
   "cell_type": "markdown",
   "id": "b31654c8",
   "metadata": {},
   "source": [
    "If the order of the comprehension is confusing, it may help to skip the part before the for loop and start with:\n",
    "`for number in milk` then return to the beginning of the comprehension to see what will be appended: `number` * 30."
   ]
  },
  {
   "cell_type": "markdown",
   "id": "b44c7862",
   "metadata": {},
   "source": [
    "Up to this point, we have used two different ways to create a new list based on an old list: \n",
    "* using a regular for loop\n",
    "* using a list comprehension\n",
    "\n",
    "I put them here side by side. The benefit of using a list comprehension is obvious. The syntax of a list comprehension is concise and short. "
   ]
  },
  {
   "cell_type": "markdown",
   "id": "fb001b9c",
   "metadata": {},
   "source": [
    "<img align=\"left\" src=\"https://ithaka-labs.s3.amazonaws.com/static-files/images/tdm/tdmdocs/PythonIntermediate1_forloop.png\" width=\"30%\"/>\n",
    "<img align=\"right\" src=\"https://ithaka-labs.s3.amazonaws.com/static-files/images/tdm/tdmdocs/PythonIntermediate1_listcomprehension.png\" width=\"40%\"/> "
   ]
  },
  {
   "cell_type": "markdown",
   "id": "74b97e17",
   "metadata": {},
   "source": [
    "#### Add a Filtering Condition to Select Items to be Appended\n",
    "\n",
    "If we wanted, we could also add a filtering condition to the for loop.\n",
    "\n",
    "Suppose the daily intake of milk for a 4-month-old as recommended by the AAP is 25 ounces at minimum. "
   ]
  },
  {
   "cell_type": "code",
   "execution_count": 4,
   "id": "abf06135",
   "metadata": {
    "execution": {
     "iopub.execute_input": "2023-10-23T01:30:13.126393Z",
     "iopub.status.busy": "2023-10-23T01:30:13.125974Z",
     "iopub.status.idle": "2023-10-23T01:30:13.131560Z",
     "shell.execute_reply": "2023-10-23T01:30:13.130975Z",
     "shell.execute_reply.started": "2023-10-23T01:30:13.126367Z"
    },
    "tags": []
   },
   "outputs": [
    {
     "name": "stdout",
     "output_type": "stream",
     "text": [
      "[]\n"
     ]
    }
   ],
   "source": [
    "# Create a list of the intake numbers that fall short of the recommended minimum quantity\n",
    "\n",
    "new_list = [number for number in milk if number < 25]\n",
    "print(new_list)"
   ]
  },
  {
   "cell_type": "code",
   "execution_count": 5,
   "id": "64369ac0",
   "metadata": {
    "execution": {
     "iopub.execute_input": "2023-10-23T01:30:13.132835Z",
     "iopub.status.busy": "2023-10-23T01:30:13.132388Z",
     "iopub.status.idle": "2023-10-23T01:30:13.139962Z",
     "shell.execute_reply": "2023-10-23T01:30:13.139395Z",
     "shell.execute_reply.started": "2023-10-23T01:30:13.132809Z"
    },
    "tags": []
   },
   "outputs": [
    {
     "data": {
      "text/plain": [
       "0"
      ]
     },
     "execution_count": 5,
     "metadata": {},
     "output_type": "execute_result"
    }
   ],
   "source": [
    "# Use len () to get how many days the newborn had less than the recommended minimum quantity\n",
    "\n",
    "len(new_list)"
   ]
  },
  {
   "cell_type": "code",
   "execution_count": 6,
   "id": "ddbaf1fd",
   "metadata": {
    "execution": {
     "iopub.execute_input": "2023-10-23T01:30:13.141227Z",
     "iopub.status.busy": "2023-10-23T01:30:13.140842Z",
     "iopub.status.idle": "2023-10-23T01:30:13.144845Z",
     "shell.execute_reply": "2023-10-23T01:30:13.144275Z",
     "shell.execute_reply.started": "2023-10-23T01:30:13.141201Z"
    },
    "tags": []
   },
   "outputs": [
    {
     "name": "stdout",
     "output_type": "stream",
     "text": [
      "0\n"
     ]
    }
   ],
   "source": [
    "# Write the list comprehension back to a for loop\n",
    "\n",
    "new_list = [] \n",
    "for number in milk:\n",
    "    if number < 25:\n",
    "        new_list.append(number)\n",
    "        \n",
    "print(len(new_list))"
   ]
  },
  {
   "cell_type": "markdown",
   "id": "a4329d00",
   "metadata": {},
   "source": [
    "#### List Comprehensions constructed from other iterables\n",
    "\n",
    "List comprehensions are used to create a list. We have seen examples where we use list comprehensions to create a new list based on an old list. Actually, list comprehensions can be used to create new lists based on **any kind of iterables**. \n",
    "\n",
    "In Python, iterables are the objects whose members can be iterated over in a for loop. Objects like lists, tuples, sets, dictionaries, strings, etc. are called iterables. "
   ]
  },
  {
   "cell_type": "markdown",
   "id": "6b30f2f6",
   "metadata": {},
   "source": [
    "Suppose you are practicing your basketball shooting skills. "
   ]
  },
  {
   "cell_type": "code",
   "execution_count": 7,
   "id": "5ee243d1",
   "metadata": {
    "execution": {
     "iopub.execute_input": "2023-10-23T01:30:13.148270Z",
     "iopub.status.busy": "2023-10-23T01:30:13.147688Z",
     "iopub.status.idle": "2023-10-23T01:30:13.151553Z",
     "shell.execute_reply": "2023-10-23T01:30:13.150975Z",
     "shell.execute_reply.started": "2023-10-23T01:30:13.148244Z"
    },
    "tags": []
   },
   "outputs": [
    {
     "name": "stdout",
     "output_type": "stream",
     "text": [
      "[1, 0, 0, 1, 0]\n"
     ]
    }
   ],
   "source": [
    "# Create a new list containing your basketball shooting results \n",
    "\n",
    "shots = '10010' \n",
    "\n",
    "new_list = [int(item) for item in shots] ## string is an iterable\n",
    "\n",
    "print(new_list)"
   ]
  },
  {
   "cell_type": "code",
   "execution_count": 8,
   "id": "0ebf50fc",
   "metadata": {
    "execution": {
     "iopub.execute_input": "2023-10-23T01:30:13.152863Z",
     "iopub.status.busy": "2023-10-23T01:30:13.152393Z",
     "iopub.status.idle": "2023-10-23T01:30:13.157280Z",
     "shell.execute_reply": "2023-10-23T01:30:13.156722Z",
     "shell.execute_reply.started": "2023-10-23T01:30:13.152837Z"
    },
    "tags": []
   },
   "outputs": [
    {
     "data": {
      "text/plain": [
       "2"
      ]
     },
     "execution_count": 8,
     "metadata": {},
     "output_type": "execute_result"
    }
   ],
   "source": [
    "# Use sum() to get how many times you have scored\n",
    "\n",
    "sum(new_list)"
   ]
  },
  {
   "cell_type": "markdown",
   "id": "a9da06b5",
   "metadata": {},
   "source": [
    "Integers, however, are not iterable. "
   ]
  },
  {
   "cell_type": "code",
   "execution_count": 9,
   "id": "0e028e16",
   "metadata": {
    "execution": {
     "iopub.execute_input": "2023-10-23T01:30:13.158629Z",
     "iopub.status.busy": "2023-10-23T01:30:13.158149Z",
     "iopub.status.idle": "2023-10-23T01:30:13.340969Z",
     "shell.execute_reply": "2023-10-23T01:30:13.338755Z",
     "shell.execute_reply.started": "2023-10-23T01:30:13.158603Z"
    },
    "tags": []
   },
   "outputs": [
    {
     "ename": "TypeError",
     "evalue": "'int' object is not iterable",
     "output_type": "error",
     "traceback": [
      "\u001b[0;31m---------------------------------------------------------------------------\u001b[0m",
      "\u001b[0;31mTypeError\u001b[0m                                 Traceback (most recent call last)",
      "Cell \u001b[0;32mIn[9], line 6\u001b[0m\n\u001b[1;32m      1\u001b[0m \u001b[38;5;66;03m# Creating a new list based on an object that is not an iterable\u001b[39;00m\n\u001b[1;32m      2\u001b[0m \u001b[38;5;66;03m# results in an error \u001b[39;00m\n\u001b[1;32m      4\u001b[0m num \u001b[38;5;241m=\u001b[39m \u001b[38;5;241m12345\u001b[39m\n\u001b[0;32m----> 6\u001b[0m digits \u001b[38;5;241m=\u001b[39m [digit \u001b[38;5;28;01mfor\u001b[39;00m digit \u001b[38;5;129;01min\u001b[39;00m num \u001b[38;5;28;01mif\u001b[39;00m digit \u001b[38;5;241m>\u001b[39m \u001b[38;5;241m3\u001b[39m] \u001b[38;5;66;03m## integer is not an iterable\u001b[39;00m\n",
      "\u001b[0;31mTypeError\u001b[0m: 'int' object is not iterable"
     ]
    }
   ],
   "source": [
    "# Creating a new list based on an object that is not an iterable\n",
    "# results in an error \n",
    "\n",
    "num = 12345\n",
    "\n",
    "digits = [digit for digit in num if digit > 3] ## integer is not an iterable"
   ]
  },
  {
   "cell_type": "markdown",
   "id": "d21e7a21",
   "metadata": {},
   "source": [
    "<h3 style=\"color:red; display:inline\">Coding Challenge! &lt; / &gt; </h3>"
   ]
  },
  {
   "cell_type": "code",
   "execution_count": null,
   "id": "f4eb423e",
   "metadata": {
    "execution": {
     "iopub.status.busy": "2023-10-23T01:30:13.341532Z",
     "iopub.status.idle": "2023-10-23T01:30:13.341761Z",
     "shell.execute_reply": "2023-10-23T01:30:13.341659Z",
     "shell.execute_reply.started": "2023-10-23T01:30:13.341647Z"
    },
    "tags": []
   },
   "outputs": [],
   "source": [
    "numbers = [0, 1, 2, 3, 4, 5, 6, 7, 8, 9]"
   ]
  },
  {
   "cell_type": "markdown",
   "id": "04ca0619",
   "metadata": {},
   "source": [
    "Create a list ```odd_num``` which contains all the odd numbers from the list ```numbers```. To find odd numbers, you can use the modulus `%` to see if there is a remainder of 1 after dividing a number by 2. If there is a remainder of 1, the number is odd.\n",
    "\n",
    "| Operator | Operation| Example | Evaluation |\n",
    "|---|---|---|---|\n",
    "|%| Modulus | 5 % 2 | 1 |\n",
    "    "
   ]
  },
  {
   "cell_type": "code",
   "execution_count": null,
   "id": "d2f3b677",
   "metadata": {
    "execution": {
     "iopub.status.busy": "2023-10-23T01:30:13.342840Z",
     "iopub.status.idle": "2023-10-23T01:30:13.343069Z",
     "shell.execute_reply": "2023-10-23T01:30:13.342966Z",
     "shell.execute_reply.started": "2023-10-23T01:30:13.342955Z"
    },
    "tags": []
   },
   "outputs": [],
   "source": [
    "5 % 2"
   ]
  },
  {
   "cell_type": "markdown",
   "id": "0d5e94e3",
   "metadata": {},
   "source": [
    "See if you can write a list comprehension that creates a new list `odd_num` which only contains the odd numbers from `numbers`. The next code cell demonstrates how it could be done with a for loop."
   ]
  },
  {
   "cell_type": "code",
   "execution_count": null,
   "id": "df2cb039",
   "metadata": {
    "execution": {
     "iopub.status.busy": "2023-10-23T01:30:13.343730Z",
     "iopub.status.idle": "2023-10-23T01:30:13.343943Z",
     "shell.execute_reply": "2023-10-23T01:30:13.343847Z",
     "shell.execute_reply.started": "2023-10-23T01:30:13.343837Z"
    }
   },
   "outputs": [],
   "source": [
    "# Creating a new list odd_num of numbers\n",
    "odd_num = [] \n",
    "for number in numbers:\n",
    "    if number % 2 == 1:\n",
    "        odd_num.append(number) \n",
    "\n",
    "print(odd_num)"
   ]
  },
  {
   "cell_type": "code",
   "execution_count": null,
   "id": "9d62940d",
   "metadata": {
    "execution": {
     "iopub.status.busy": "2023-10-23T01:30:13.344730Z",
     "iopub.status.idle": "2023-10-23T01:30:13.344948Z",
     "shell.execute_reply": "2023-10-23T01:30:13.344847Z",
     "shell.execute_reply.started": "2023-10-23T01:30:13.344836Z"
    }
   },
   "outputs": [],
   "source": [
    "# Creating a new list odd_num from numbers\n",
    "# Using a list comprehension\n"
   ]
  },
  {
   "cell_type": "markdown",
   "id": "fa5db524",
   "metadata": {},
   "source": [
    "<!-- Here's an example that changes what will be appended. -->\n",
    "<!-- Again, if you find the order confusing, it may help to skip ahead to the `for`. You can also optionally include a parentheses that may help clarify which part will be appended: -->\n",
    "<!-- # Create a new list where each number is doubled\n",
    "\n",
    "new_list = [item * 2 for item in numbers]\n",
    "print(new_list) -->\n",
    "<!-- # # Create a new list where each number is doubled\n",
    "# # Parentheses for clarity\n",
    "\n",
    "# new_list = [(item * 2) for item in numbers]\n",
    "# print(new_list) -->\n"
   ]
  },
  {
   "cell_type": "markdown",
   "id": "799ca1a8",
   "metadata": {},
   "source": [
    "### List Comprehensions (Strings)\n",
    "\n",
    "A list comprehension also works on a list containing other data types, such as strings."
   ]
  },
  {
   "cell_type": "code",
   "execution_count": null,
   "id": "57f238d1",
   "metadata": {
    "execution": {
     "iopub.status.busy": "2023-10-23T01:30:13.345628Z",
     "iopub.status.idle": "2023-10-23T01:30:13.345842Z",
     "shell.execute_reply": "2023-10-23T01:30:13.345744Z",
     "shell.execute_reply.started": "2023-10-23T01:30:13.345733Z"
    },
    "tags": []
   },
   "outputs": [],
   "source": [
    "# Create a list of people\n",
    "\n",
    "people = ['Aaron Aston',\n",
    "         'Brianna Barton',\n",
    "         'Carla Cameron',\n",
    "         'Delia Darcy',\n",
    "         'Evelyn Elgin',\n",
    "         'Frederick Federov',\n",
    "         'Gaston Garbo']"
   ]
  },
  {
   "cell_type": "markdown",
   "id": "7eb27735",
   "metadata": {},
   "source": [
    "Suppose you want to create a new list that only contains the first names. "
   ]
  },
  {
   "cell_type": "code",
   "execution_count": null,
   "id": "da960a4c",
   "metadata": {
    "execution": {
     "iopub.status.busy": "2023-10-23T01:30:13.346689Z",
     "iopub.status.idle": "2023-10-23T01:30:13.347076Z",
     "shell.execute_reply": "2023-10-23T01:30:13.346975Z",
     "shell.execute_reply.started": "2023-10-23T01:30:13.346964Z"
    },
    "tags": []
   },
   "outputs": [],
   "source": [
    "# Create a new list that only includes first names\n",
    "# Using a for loop\n",
    "\n",
    "friends = [] \n",
    "\n",
    "for name in people:\n",
    "    first_name = name.split()[0] # Split the name on whitespace, then grab the first name/item\n",
    "    friends.append(first_name)\n",
    "    \n",
    "print(friends)"
   ]
  },
  {
   "cell_type": "markdown",
   "id": "e6bbb5a0",
   "metadata": {},
   "source": [
    "In this example, we split each name string on whitespace using the `.split()` method. This creates a list of strings from a string."
   ]
  },
  {
   "cell_type": "code",
   "execution_count": null,
   "id": "b234f1d1",
   "metadata": {
    "execution": {
     "iopub.status.busy": "2023-10-23T01:30:13.347807Z",
     "iopub.status.idle": "2023-10-23T01:30:13.348211Z",
     "shell.execute_reply": "2023-10-23T01:30:13.348092Z",
     "shell.execute_reply.started": "2023-10-23T01:30:13.348077Z"
    },
    "tags": []
   },
   "outputs": [],
   "source": [
    "# Split a string on white space\n",
    "\n",
    "\"John Doe\".split()"
   ]
  },
  {
   "cell_type": "code",
   "execution_count": null,
   "id": "59f1d28d",
   "metadata": {
    "execution": {
     "iopub.status.busy": "2023-10-23T01:30:13.348886Z",
     "iopub.status.idle": "2023-10-23T01:30:13.349355Z",
     "shell.execute_reply": "2023-10-23T01:30:13.349255Z",
     "shell.execute_reply.started": "2023-10-23T01:30:13.349244Z"
    },
    "tags": []
   },
   "outputs": [],
   "source": [
    "# Split a string on white space\n",
    "# Then return only the first item in the list\n",
    "\n",
    "\"John Doe\".split()[0]"
   ]
  },
  {
   "cell_type": "markdown",
   "id": "97b69f76",
   "metadata": {},
   "source": [
    "<h4 style=\"color:red; display:inline\">Coding Challenge! &lt; / &gt; </h4>\n",
    "\n",
    "Use a list comprehension to create a list called `friends` that contains only first names."
   ]
  },
  {
   "cell_type": "code",
   "execution_count": null,
   "id": "1dbd8e80",
   "metadata": {
    "execution": {
     "iopub.status.busy": "2023-10-23T01:30:13.350291Z",
     "iopub.status.idle": "2023-10-23T01:30:13.350735Z",
     "shell.execute_reply": "2023-10-23T01:30:13.350629Z",
     "shell.execute_reply.started": "2023-10-23T01:30:13.350617Z"
    }
   },
   "outputs": [],
   "source": [
    "# Create a new list that only includes first names\n",
    "# Using a list comprehension\n"
   ]
  },
  {
   "cell_type": "markdown",
   "id": "b211331f",
   "metadata": {},
   "source": [
    "### List Comprehensions (Multiple Lists)\n",
    "\n",
    "We can also create a list comprehension that pulls from multiple lists by using two for loops within a single list comprehension."
   ]
  },
  {
   "cell_type": "markdown",
   "id": "1866e5da",
   "metadata": {},
   "source": [
    "Scenario: Suppose you are running a restaurant. For the lunch special, you provide different varieties of rice and different protein choices that go with the rice."
   ]
  },
  {
   "cell_type": "code",
   "execution_count": null,
   "id": "28604420",
   "metadata": {
    "execution": {
     "iopub.status.busy": "2023-10-23T01:30:13.351325Z",
     "iopub.status.idle": "2023-10-23T01:30:13.351677Z",
     "shell.execute_reply": "2023-10-23T01:30:13.351570Z",
     "shell.execute_reply.started": "2023-10-23T01:30:13.351558Z"
    },
    "tags": []
   },
   "outputs": [],
   "source": [
    "# Define two lists: rices and proteins\n",
    "\n",
    "rices = [\"white rice\", \"brown rice\", \"yellow rice\"]\n",
    "\n",
    "proteins = [\"beef\", \"pork\", \"chicken\", \"shrimp\", \"lamb\", \"tofu\"] "
   ]
  },
  {
   "cell_type": "code",
   "execution_count": null,
   "id": "5c69baff",
   "metadata": {
    "execution": {
     "iopub.status.busy": "2023-10-23T01:30:13.352400Z",
     "iopub.status.idle": "2023-10-23T01:30:13.352612Z",
     "shell.execute_reply": "2023-10-23T01:30:13.352517Z",
     "shell.execute_reply.started": "2023-10-23T01:30:13.352507Z"
    },
    "tags": []
   },
   "outputs": [],
   "source": [
    "# A Nested For Loop Example\n",
    "all_lunch_special_choices = []\n",
    "\n",
    "for rice in rices:\n",
    "    for protein in proteins:\n",
    "        all_lunch_special_choices.append(rice + \" with \" + protein)\n",
    "\n",
    "from pprint import pprint \n",
    "pprint(all_lunch_special_choices) # use pprint to print the output in a pretty format"
   ]
  },
  {
   "cell_type": "code",
   "execution_count": null,
   "id": "afad94b0",
   "metadata": {
    "execution": {
     "iopub.status.busy": "2023-10-23T01:30:13.353331Z",
     "iopub.status.idle": "2023-10-23T01:30:13.353545Z",
     "shell.execute_reply": "2023-10-23T01:30:13.353449Z",
     "shell.execute_reply.started": "2023-10-23T01:30:13.353438Z"
    },
    "tags": []
   },
   "outputs": [],
   "source": [
    "# Using a list comprehension on two lists\n",
    "# Create a list of all possible combinations of rice and protein\n",
    "\n",
    "all_lunch_special_choices = [rice + \" with \" + protein for rice in rices for protein in proteins]\n",
    "\n",
    "pprint(all_lunch_special_choices)"
   ]
  },
  {
   "cell_type": "markdown",
   "id": "6a31fbe4",
   "metadata": {},
   "source": [
    "The two lists we pull from are independent of each other. You can see that even if we switch the two for loops, the result is still a valid list comprehension. "
   ]
  },
  {
   "cell_type": "code",
   "execution_count": null,
   "id": "686702a5",
   "metadata": {
    "execution": {
     "iopub.status.busy": "2023-10-23T01:30:13.354453Z",
     "iopub.status.idle": "2023-10-23T01:30:13.354661Z",
     "shell.execute_reply": "2023-10-23T01:30:13.354565Z",
     "shell.execute_reply.started": "2023-10-23T01:30:13.354555Z"
    },
    "tags": []
   },
   "outputs": [],
   "source": [
    "# Using a list comprehension on two lists\n",
    "# Create a list of all possible combinations of protein and rice\n",
    "\n",
    "all_lunch_special_choices = [rice + \" with \" + protein for protein in proteins for rice in rices]\n",
    "\n",
    "pprint(all_lunch_special_choices)"
   ]
  },
  {
   "cell_type": "markdown",
   "id": "767d7e3a",
   "metadata": {},
   "source": [
    "What if the lists we pull from are not independent of one another? What if one is nested in another? Can we switch the two for loops?"
   ]
  },
  {
   "cell_type": "code",
   "execution_count": null,
   "id": "39c18524",
   "metadata": {
    "execution": {
     "iopub.status.busy": "2023-10-23T01:30:13.355393Z",
     "iopub.status.idle": "2023-10-23T01:30:13.355606Z",
     "shell.execute_reply": "2023-10-23T01:30:13.355508Z",
     "shell.execute_reply.started": "2023-10-23T01:30:13.355498Z"
    },
    "tags": []
   },
   "outputs": [],
   "source": [
    "# Create a list of all names from nested lists\n",
    "\n",
    "names = [\n",
    "    ['Abby', 'Bella', 'Cecilia'],\n",
    "    ['Alex', 'Beatrice', 'Cynthia', 'David']\n",
    "]\n",
    "\n",
    "all_names = [name for sub_list in names for name in sub_list]\n",
    "print(all_names)"
   ]
  },
  {
   "cell_type": "code",
   "execution_count": null,
   "id": "699f9d04",
   "metadata": {
    "execution": {
     "iopub.status.busy": "2023-10-23T01:30:13.356246Z",
     "iopub.status.idle": "2023-10-23T01:30:13.356610Z",
     "shell.execute_reply": "2023-10-23T01:30:13.356508Z",
     "shell.execute_reply.started": "2023-10-23T01:30:13.356497Z"
    },
    "tags": []
   },
   "outputs": [],
   "source": [
    "# Switch the two for loops and see what happens \n",
    "\n",
    "names = [\n",
    "    ['Abby', 'Bella','Cecilia'],\n",
    "    ['Alex','Beatrice','Cynthia','David']\n",
    "]\n",
    "\n",
    "all_names = [name for name in sublist for sublist in names]\n",
    "print(all_names)"
   ]
  },
  {
   "cell_type": "code",
   "execution_count": null,
   "id": "f6bd519c",
   "metadata": {
    "execution": {
     "iopub.status.busy": "2023-10-23T01:30:13.357552Z",
     "iopub.status.idle": "2023-10-23T01:30:13.357879Z",
     "shell.execute_reply": "2023-10-23T01:30:13.357778Z",
     "shell.execute_reply.started": "2023-10-23T01:30:13.357767Z"
    },
    "tags": []
   },
   "outputs": [],
   "source": [
    "# Convert the list comprehension back to a for loop to get a clearer view\n",
    "\n",
    "names = [\n",
    "    ['Abby', 'Bella','Cecilia'],\n",
    "    ['Alex','Beatrice','Cynthia','David']\n",
    "]\n",
    "\n",
    "all_names = []\n",
    "for name in sublist:\n",
    "    for sublist in names:\n",
    "        all_names.append(name)\n"
   ]
  },
  {
   "cell_type": "markdown",
   "id": "75ed881a",
   "metadata": {},
   "source": [
    "<h4 style=\"color:red; display:inline\">Coding Challenge! &lt; / &gt; </h4>\n",
    "\n",
    "Process the `names` list using a for loop, and store the names that start with the letter 'A' in a new list ```a_name```.\n",
    "\n",
    "Then do the same thing using a list comprehension."
   ]
  },
  {
   "cell_type": "code",
   "execution_count": null,
   "id": "fe1ef427",
   "metadata": {
    "execution": {
     "iopub.status.busy": "2023-10-23T01:30:13.358487Z",
     "iopub.status.idle": "2023-10-23T01:30:13.358697Z",
     "shell.execute_reply": "2023-10-23T01:30:13.358601Z",
     "shell.execute_reply.started": "2023-10-23T01:30:13.358591Z"
    }
   },
   "outputs": [],
   "source": [
    "# Create a list that only contains the names that start with the letter 'A'\n",
    "# Using a for loop\n",
    "names = [\n",
    "    ['Abby', 'Bella','Cecilia'],\n",
    "    ['Alex','Beatrice','Cynthia','David']\n",
    "]\n"
   ]
  },
  {
   "cell_type": "code",
   "execution_count": null,
   "id": "ccfe16ec",
   "metadata": {
    "execution": {
     "iopub.status.busy": "2023-10-23T01:30:13.359564Z",
     "iopub.status.idle": "2023-10-23T01:30:13.359873Z",
     "shell.execute_reply": "2023-10-23T01:30:13.359775Z",
     "shell.execute_reply.started": "2023-10-23T01:30:13.359763Z"
    }
   },
   "outputs": [],
   "source": [
    "# Create a list that only contains the names that start with the letter 'A'\n",
    "# Using a list comprehension\n",
    "\n"
   ]
  },
  {
   "cell_type": "markdown",
   "id": "74af6020",
   "metadata": {},
   "source": [
    "## Dictionary Comprehension\n",
    "The form of a dictionary comprehension is the same as for a list. Since a dictionary comprehension may deal with keys, values, or both, we need to be prepared to use `.keys()`, `.values()`, or `.items()` (for both)."
   ]
  },
  {
   "cell_type": "code",
   "execution_count": null,
   "id": "335a87e1",
   "metadata": {
    "execution": {
     "iopub.status.busy": "2023-10-23T01:30:13.360558Z",
     "iopub.status.idle": "2023-10-23T01:30:13.360772Z",
     "shell.execute_reply": "2023-10-23T01:30:13.360675Z",
     "shell.execute_reply.started": "2023-10-23T01:30:13.360665Z"
    },
    "tags": []
   },
   "outputs": [],
   "source": [
    "# Create a dictionary of contacts and occupations\n",
    "\n",
    "contacts = {\n",
    " 'Amanda Bennett': 'Engineer, electrical',\n",
    " 'Bryan Miller': 'Radiation protection practitioner',\n",
    " 'Christopher Garrison': 'Planning and development surveyor',\n",
    " 'Debra Allen': 'Intelligence analyst',\n",
    " 'Donna Decker': 'Architect',\n",
    " 'Heather Bullock': 'Media planner',\n",
    " 'Jason Brown': 'Energy manager',\n",
    " 'Jason Soto': 'Lighting technician, broadcasting/film/video',\n",
    " 'Marissa Munoz': 'Further education lecturer',\n",
    " 'Matthew Mccall': 'Chief Technology Officer',\n",
    " 'Michael Norman': 'Translator',\n",
    " 'Nicole Leblanc': 'Financial controller',\n",
    " 'Noah Delgado': 'Engineer, civil',\n",
    " 'Rachel Charles': 'Physicist, medical',\n",
    " 'Stephanie Petty': 'Architect'}"
   ]
  },
  {
   "cell_type": "markdown",
   "id": "7a5ad5f1",
   "metadata": {},
   "source": [
    "When we loop over a dictionary, we will only loop over the keys of the dictionary. "
   ]
  },
  {
   "cell_type": "code",
   "execution_count": null,
   "id": "c7880711",
   "metadata": {
    "execution": {
     "iopub.status.busy": "2023-10-23T01:30:13.361366Z",
     "iopub.status.idle": "2023-10-23T01:30:13.361571Z",
     "shell.execute_reply": "2023-10-23T01:30:13.361477Z",
     "shell.execute_reply.started": "2023-10-23T01:30:13.361467Z"
    },
    "tags": []
   },
   "outputs": [],
   "source": [
    "# Looping over a dictionary only loops the keys\n",
    "for contact in contacts:\n",
    "    print(contact)"
   ]
  },
  {
   "cell_type": "code",
   "execution_count": null,
   "id": "514f9470",
   "metadata": {
    "execution": {
     "iopub.status.busy": "2023-10-23T01:30:13.362389Z",
     "iopub.status.idle": "2023-10-23T01:30:13.362725Z",
     "shell.execute_reply": "2023-10-23T01:30:13.362624Z",
     "shell.execute_reply.started": "2023-10-23T01:30:13.362613Z"
    },
    "tags": []
   },
   "outputs": [],
   "source": [
    "# Looping over a dictionary by specifying .keys()\n",
    "for key in contacts.keys():\n",
    "    print(key)"
   ]
  },
  {
   "cell_type": "markdown",
   "id": "7a3038f7",
   "metadata": {},
   "source": [
    "To loop over both the keys and the values, we will need to use ```dict.items()```."
   ]
  },
  {
   "cell_type": "code",
   "execution_count": null,
   "id": "a8f83b5d",
   "metadata": {
    "execution": {
     "iopub.status.busy": "2023-10-23T01:30:13.363212Z",
     "iopub.status.idle": "2023-10-23T01:30:13.363422Z",
     "shell.execute_reply": "2023-10-23T01:30:13.363325Z",
     "shell.execute_reply.started": "2023-10-23T01:30:13.363315Z"
    },
    "scrolled": true,
    "tags": []
   },
   "outputs": [],
   "source": [
    "# Looping over a dictionary by specifying .items()\n",
    "for item in contacts.items():\n",
    "    print(item)"
   ]
  },
  {
   "cell_type": "markdown",
   "id": "6044beae",
   "metadata": {},
   "source": [
    "Note that each key/value pair is returned as a tuple. A tuple is very similar to a Python list; the difference is that a tuple cannot be modified. The technical term in Python is immutable. \n",
    "\n",
    "* A list is mutable (can be changed)\n",
    "* A tuple is immutable (cannot be changed)\n",
    "\n",
    "We can further distinguish between them by the fact that:\n",
    "\n",
    "* A list uses hard brackets `[]`\n",
    "* A tuple uses parentheses `()`."
   ]
  },
  {
   "cell_type": "markdown",
   "id": "efe151b5",
   "metadata": {},
   "source": [
    "We can create a new dictionary from the original dictionary using a for loop to iterate through the key/value pairs. The for loop format is similar to a list except we need to use an index to refer to the key or value of the tuple."
   ]
  },
  {
   "cell_type": "code",
   "execution_count": null,
   "id": "b6be014a",
   "metadata": {
    "execution": {
     "iopub.status.busy": "2023-10-23T01:30:13.364371Z",
     "iopub.status.idle": "2023-10-23T01:30:13.364592Z",
     "shell.execute_reply": "2023-10-23T01:30:13.364492Z",
     "shell.execute_reply.started": "2023-10-23T01:30:13.364481Z"
    },
    "tags": []
   },
   "outputs": [],
   "source": [
    "# Create a new dictionary that only contains the engineers \n",
    "# Using a for loop\n",
    "\n",
    "engineer_contacts = {}\n",
    "\n",
    "for contact in contacts.items():\n",
    "    if 'Engineer' in contact[1]:\n",
    "        engineer_contacts[contact[0]] = contact[1]\n",
    "    \n",
    "pprint(engineer_contacts)"
   ]
  },
  {
   "cell_type": "code",
   "execution_count": null,
   "id": "587f0e3a",
   "metadata": {
    "execution": {
     "iopub.status.busy": "2023-10-23T01:30:13.365110Z",
     "iopub.status.idle": "2023-10-23T01:30:13.365441Z",
     "shell.execute_reply": "2023-10-23T01:30:13.365332Z",
     "shell.execute_reply.started": "2023-10-23T01:30:13.365319Z"
    },
    "tags": []
   },
   "outputs": [],
   "source": [
    "# Use index to access the elements in a tuple\n",
    "\n",
    "person = (\"John Doe\", \"Engineer, mechanical\")\n",
    "person[1]"
   ]
  },
  {
   "cell_type": "code",
   "execution_count": null,
   "id": "16088d4d",
   "metadata": {
    "execution": {
     "iopub.status.busy": "2023-10-23T01:30:13.366049Z",
     "iopub.status.idle": "2023-10-23T01:30:13.366451Z",
     "shell.execute_reply": "2023-10-23T01:30:13.366341Z",
     "shell.execute_reply.started": "2023-10-23T01:30:13.366323Z"
    },
    "tags": []
   },
   "outputs": [],
   "source": [
    "# A quick reminder of how to add key/value pairs to a dictionary\n",
    "\n",
    "grades = {'John': 90, 'Mary': 95}\n",
    "grades['Sue'] = 98\n",
    "print(grades)"
   ]
  },
  {
   "cell_type": "code",
   "execution_count": null,
   "id": "283dfb42",
   "metadata": {
    "execution": {
     "iopub.status.busy": "2023-10-23T01:30:13.367056Z",
     "iopub.status.idle": "2023-10-23T01:30:13.367406Z",
     "shell.execute_reply": "2023-10-23T01:30:13.367304Z",
     "shell.execute_reply.started": "2023-10-23T01:30:13.367292Z"
    },
    "tags": []
   },
   "outputs": [],
   "source": [
    "# Use a dictionary comprehension to iterate through the (key, value) tuples of the items in a dictionary\n",
    "# Add each key:value pair to a new dictionary engineer_contacts\n",
    "\n",
    "engineer_contacts = {contact[0]:contact[1] for contact in contacts.items() if 'Engineer' in contact[1]}\n",
    "pprint(engineer_contacts)"
   ]
  },
  {
   "cell_type": "markdown",
   "id": "3f9372c2",
   "metadata": {},
   "source": [
    "Instead of using indices with each tuple, we can also give variable names to the keys and values respectively."
   ]
  },
  {
   "cell_type": "code",
   "execution_count": null,
   "id": "914d22ff",
   "metadata": {
    "execution": {
     "iopub.status.busy": "2023-10-23T01:30:13.368057Z",
     "iopub.status.idle": "2023-10-23T01:30:13.368463Z",
     "shell.execute_reply": "2023-10-23T01:30:13.368354Z",
     "shell.execute_reply.started": "2023-10-23T01:30:13.368333Z"
    },
    "scrolled": true,
    "tags": []
   },
   "outputs": [],
   "source": [
    "# Use key/value variable names for each tuple\n",
    "# For loop example\n",
    "\n",
    "engineer_contacts = {} \n",
    "\n",
    "for (name, occupation) in contacts.items():\n",
    "    if 'Engineer' in occupation:\n",
    "        engineer_contacts[name] = occupation\n",
    "\n",
    "pprint(engineer_contacts)      "
   ]
  },
  {
   "cell_type": "code",
   "execution_count": null,
   "id": "25b6dfd8",
   "metadata": {
    "execution": {
     "iopub.status.busy": "2023-10-23T01:30:13.369192Z",
     "iopub.status.idle": "2023-10-23T01:30:13.369421Z",
     "shell.execute_reply": "2023-10-23T01:30:13.369312Z",
     "shell.execute_reply.started": "2023-10-23T01:30:13.369301Z"
    },
    "scrolled": true,
    "tags": []
   },
   "outputs": [],
   "source": [
    "# Using key/value variable names for each tuple\n",
    "# Dictionary comprehension example\n",
    "\n",
    "engineer_contacts = {name : occupation for (name, occupation) in contacts.items() if 'Engineer' in occupation}\n",
    "pprint(engineer_contacts)"
   ]
  },
  {
   "cell_type": "markdown",
   "id": "533fc542",
   "metadata": {},
   "source": [
    "In the section on list comrehensions, we saw that we can use list comprehensions to create a list from any kind of iterables. The same is true for dictionary comprehensions. We can use dictionary comprehensions to create a new dictionary based on any kind of iterables, not necessarily an old dictionary.   "
   ]
  },
  {
   "cell_type": "code",
   "execution_count": null,
   "id": "d98a7396",
   "metadata": {
    "execution": {
     "iopub.status.busy": "2023-10-23T01:30:13.370274Z",
     "iopub.status.idle": "2023-10-23T01:30:13.370697Z",
     "shell.execute_reply": "2023-10-23T01:30:13.370586Z",
     "shell.execute_reply.started": "2023-10-23T01:30:13.370573Z"
    },
    "scrolled": true,
    "tags": []
   },
   "outputs": [],
   "source": [
    "# Create a dictionary based on a list of word strings\n",
    "# where keys are the words and values are the lengths of the words\n",
    "# for loop example\n",
    "\n",
    "words = ['more', 'is', 'said', 'than', 'done']\n",
    "\n",
    "word_length = {}\n",
    "\n",
    "for word in words:\n",
    "    word_length[word] = len(word)\n",
    "    \n",
    "print(word_length)  "
   ]
  },
  {
   "cell_type": "code",
   "execution_count": null,
   "id": "700b6d41",
   "metadata": {
    "execution": {
     "iopub.status.busy": "2023-10-23T01:30:13.371953Z",
     "iopub.status.idle": "2023-10-23T01:30:13.372314Z",
     "shell.execute_reply": "2023-10-23T01:30:13.372207Z",
     "shell.execute_reply.started": "2023-10-23T01:30:13.372194Z"
    },
    "tags": []
   },
   "outputs": [],
   "source": [
    "# Create a dictionary of word/word length pairs based on a list of word strings\n",
    "# using a dictionary comprehension\n",
    "\n",
    "word_length = {word : len(word) for word in words}\n",
    "print(word_length)"
   ]
  },
  {
   "cell_type": "markdown",
   "id": "c730db93",
   "metadata": {},
   "source": [
    "<h3 style=\"color:red; display:inline\">Coding Challenge! &lt; / &gt; </h3>\n",
    "\n",
    "Suppose you are a grocery store owner. Due to the inflation, you have to raise prices by 15%. In ```store_prices``` are the items and their original price. Use a dictionary comprehension to create a new dictionary with the new price.\n",
    "\n",
    "Hint: You can round a number to two decimal places using the `round()` function. The first argument is the number to be rounded; the second argument is the level of precision. In this case, two decimal places. "
   ]
  },
  {
   "cell_type": "code",
   "execution_count": null,
   "id": "6971612f",
   "metadata": {
    "execution": {
     "iopub.status.busy": "2023-10-23T01:30:13.372856Z",
     "iopub.status.idle": "2023-10-23T01:30:13.373064Z",
     "shell.execute_reply": "2023-10-23T01:30:13.372969Z",
     "shell.execute_reply.started": "2023-10-23T01:30:13.372959Z"
    },
    "tags": []
   },
   "outputs": [],
   "source": [
    "round(3.1415926, 2)"
   ]
  },
  {
   "cell_type": "code",
   "execution_count": null,
   "id": "9c552300",
   "metadata": {
    "execution": {
     "iopub.status.busy": "2023-10-23T01:30:13.373714Z",
     "iopub.status.idle": "2023-10-23T01:30:13.373942Z",
     "shell.execute_reply": "2023-10-23T01:30:13.373835Z",
     "shell.execute_reply.started": "2023-10-23T01:30:13.373824Z"
    },
    "tags": []
   },
   "outputs": [],
   "source": [
    "# Create a new dictionary where all prices are 15% higher\n",
    "store_prices = {\n",
    "    \"milk\": 3.49,\n",
    "    \"egg\": 5.29,\n",
    "    \"bread\": 2.99,\n",
    "    \"spinach\": 1.99,\n",
    "    \"lettuce\": 2.35,\n",
    "    \"banana\": 0.99\n",
    "}\n"
   ]
  },
  {
   "cell_type": "markdown",
   "id": "7b2d3896",
   "metadata": {},
   "source": [
    "## Set comprehension\n",
    "\n",
    "Sets in Python are written with curly braces. Curly braces `{}` are used for both dictionaries and sets in Python. Which one is created depends on whether we supply the associated value or not. We can use the `type()` function to discover what kind of object a variable is."
   ]
  },
  {
   "cell_type": "code",
   "execution_count": null,
   "id": "b883d659",
   "metadata": {
    "execution": {
     "iopub.status.busy": "2023-10-23T01:30:13.374861Z",
     "iopub.status.idle": "2023-10-23T01:30:13.375122Z",
     "shell.execute_reply": "2023-10-23T01:30:13.375022Z",
     "shell.execute_reply.started": "2023-10-23T01:30:13.375011Z"
    },
    "tags": []
   },
   "outputs": [],
   "source": [
    "# Demonstrating a set\n",
    "# One data entry per comma in curly braces\n",
    "\n",
    "test_set = {1, 2, 3}\n",
    "type(test_set)"
   ]
  },
  {
   "cell_type": "code",
   "execution_count": null,
   "id": "be983613",
   "metadata": {
    "execution": {
     "iopub.status.busy": "2023-10-23T01:30:13.375830Z",
     "iopub.status.idle": "2023-10-23T01:30:13.376039Z",
     "shell.execute_reply": "2023-10-23T01:30:13.375944Z",
     "shell.execute_reply.started": "2023-10-23T01:30:13.375934Z"
    },
    "tags": []
   },
   "outputs": [],
   "source": [
    "# Demonstrating a dictionary\n",
    "# Two data entries separated by a colon per each comma in curly braces\n",
    "\n",
    "test_dict = {1 : 'apple', 2 : 'banana', 3 : 'cherry'}\n",
    "type(test_dict)"
   ]
  },
  {
   "cell_type": "markdown",
   "id": "56eb5af3",
   "metadata": {},
   "source": [
    "To create an empty set, we use the `set()` function. By default, empty curly braces will create an empty dictionary. "
   ]
  },
  {
   "cell_type": "code",
   "execution_count": null,
   "id": "d78bbd89",
   "metadata": {
    "execution": {
     "iopub.status.busy": "2023-10-23T01:30:13.376700Z",
     "iopub.status.idle": "2023-10-23T01:30:13.376907Z",
     "shell.execute_reply": "2023-10-23T01:30:13.376812Z",
     "shell.execute_reply.started": "2023-10-23T01:30:13.376802Z"
    },
    "tags": []
   },
   "outputs": [],
   "source": [
    "# Demonstrating creation of empty dict vs empty set\n",
    "\n",
    "test_set = set()\n",
    "test_dict = {}\n",
    "\n",
    "print(f'test_set is a {type(test_set)}')\n",
    "print(f'test_dict is a {type(test_dict)}')"
   ]
  },
  {
   "cell_type": "code",
   "execution_count": null,
   "id": "962fe488",
   "metadata": {
    "execution": {
     "iopub.status.busy": "2023-10-23T01:30:13.377634Z",
     "iopub.status.idle": "2023-10-23T01:30:13.378038Z",
     "shell.execute_reply": "2023-10-23T01:30:13.377937Z",
     "shell.execute_reply.started": "2023-10-23T01:30:13.377925Z"
    },
    "tags": []
   },
   "outputs": [],
   "source": [
    "# Using a for loop with a set\n",
    "\n",
    "set1 = {5, 6, 7, 8, 9}\n",
    "set2 = set() ## note how we initialize an empty set\n",
    "for num in set1:\n",
    "    if num > 5:\n",
    "        set2.add(num) # note how we add a new element to a set\n",
    "print(set2)"
   ]
  },
  {
   "cell_type": "code",
   "execution_count": null,
   "id": "f4c568a1",
   "metadata": {
    "execution": {
     "iopub.status.busy": "2023-10-23T01:30:13.378653Z",
     "iopub.status.idle": "2023-10-23T01:30:13.379093Z",
     "shell.execute_reply": "2023-10-23T01:30:13.378972Z",
     "shell.execute_reply.started": "2023-10-23T01:30:13.378956Z"
    },
    "tags": []
   },
   "outputs": [],
   "source": [
    "# Using a set comprehension\n",
    "\n",
    "set2 = {num for num in set1 if num > 5}\n",
    "print(set2) "
   ]
  },
  {
   "cell_type": "markdown",
   "id": "cf2fb530",
   "metadata": {},
   "source": [
    "A set is an unordered collection of distinct objects. If you change the order of the elements or list an element more than once, that does not change the set. "
   ]
  },
  {
   "cell_type": "code",
   "execution_count": null,
   "id": "a14ae2c1",
   "metadata": {
    "execution": {
     "iopub.status.busy": "2023-10-23T01:30:13.379734Z",
     "iopub.status.idle": "2023-10-23T01:30:13.379950Z",
     "shell.execute_reply": "2023-10-23T01:30:13.379854Z",
     "shell.execute_reply.started": "2023-10-23T01:30:13.379843Z"
    }
   },
   "outputs": [],
   "source": [
    "# Using a comparison operator on two sets\n",
    "# Same elements in different order\n",
    "\n",
    "{1,2} == {2,1}"
   ]
  },
  {
   "cell_type": "code",
   "execution_count": null,
   "id": "741a048b",
   "metadata": {
    "execution": {
     "iopub.status.busy": "2023-10-23T01:30:13.380656Z",
     "iopub.status.idle": "2023-10-23T01:30:13.380874Z",
     "shell.execute_reply": "2023-10-23T01:30:13.380777Z",
     "shell.execute_reply.started": "2023-10-23T01:30:13.380766Z"
    }
   },
   "outputs": [],
   "source": [
    "# Using a comparison operator on two sets\n",
    "# Repeated elements in a set\n",
    "\n",
    "{1,1,2} == {1,2}"
   ]
  },
  {
   "cell_type": "code",
   "execution_count": null,
   "id": "588ce81b",
   "metadata": {
    "execution": {
     "iopub.status.busy": "2023-10-23T01:30:13.381615Z",
     "iopub.status.idle": "2023-10-23T01:30:13.381830Z",
     "shell.execute_reply": "2023-10-23T01:30:13.381734Z",
     "shell.execute_reply.started": "2023-10-23T01:30:13.381723Z"
    }
   },
   "outputs": [],
   "source": [
    "# Printing a set with duplicates\n",
    "# Duplicates are removed automatically\n",
    "\n",
    "print({1, 1, 2})"
   ]
  },
  {
   "cell_type": "markdown",
   "id": "7457cc5e",
   "metadata": {},
   "source": [
    "Again, we can use set comprehensions to create a new set based on any kind of iterables that have been defined. "
   ]
  },
  {
   "cell_type": "code",
   "execution_count": null,
   "id": "91220bfc",
   "metadata": {
    "execution": {
     "iopub.status.busy": "2023-10-23T01:30:13.382520Z",
     "iopub.status.idle": "2023-10-23T01:30:13.382728Z",
     "shell.execute_reply": "2023-10-23T01:30:13.382633Z",
     "shell.execute_reply.started": "2023-10-23T01:30:13.382623Z"
    }
   },
   "outputs": [],
   "source": [
    "# Create a new set containing only the names from the dictionary of contacts\n",
    "\n",
    "names = {name for name in contacts}\n",
    "\n",
    "pprint(names)"
   ]
  },
  {
   "cell_type": "markdown",
   "id": "34e3d0a0",
   "metadata": {},
   "source": [
    "<h3 style=\"color:red; display:inline\">Coding Challenge! &lt; / &gt; </h3>\n",
    "\n",
    "![An illustration of a wordle game](https://ithaka-labs.s3.amazonaws.com/static-files/images/tdm/tdmdocs/wordle.png)\n",
    "\n",
    "In the game [Wordle](https://www.nytimes.com/games/wordle/index.html), players must guess a five letter word in six guesses or less. A player is told if the letters in their guess are found in the word and if they are in the correct spot for the answer.\n",
    "\n",
    "On their first guess, a player discovers that the 3rd letter is \"I\" and the 4th letter is \"S\". If they have the set of all possible words, they could narrow down their guesses.\n",
    "\n",
    "Assume the `words` set contains a set of all possible words, can you write a set comprehension that will generate a set of all possible solutions?\n",
    "\n",
    "As an extra challenge, write additional set comprehensions to eliminate answers that contain the letters \"P\", \"R\", or \"M\"."
   ]
  },
  {
   "cell_type": "code",
   "execution_count": null,
   "id": "f247b418",
   "metadata": {
    "execution": {
     "iopub.status.busy": "2023-10-23T01:30:13.383570Z",
     "iopub.status.idle": "2023-10-23T01:30:13.384068Z",
     "shell.execute_reply": "2023-10-23T01:30:13.383962Z",
     "shell.execute_reply.started": "2023-10-23T01:30:13.383949Z"
    }
   },
   "outputs": [],
   "source": [
    "# Write a set comprehension that creates a set of potential answers\n",
    "\n",
    "words = {'carbon',\n",
    "         'monkey',\n",
    "         'rabbit',\n",
    "         'theory',\n",
    "         'grist',\n",
    "         'farmer',\n",
    "         'pillow',\n",
    "         'exist',\n",
    "         'frisk',\n",
    "         'harbor',\n",
    "         'prism'\n",
    "        }\n",
    "\n"
   ]
  },
  {
   "cell_type": "markdown",
   "id": "987868f2",
   "metadata": {},
   "source": [
    "___\n",
    "## Lesson Complete\n",
    "\n",
    "Congratulations! You have completed *Python Intermediate 1*.\n",
    "\n",
    "### Start Next Lesson: [Python Intermediate 2](./python-intermediate-2.ipynb)\n",
    "\n",
    "### Exercise Solutions\n",
    "Here are a few solutions for exercises in this lesson."
   ]
  },
  {
   "cell_type": "code",
   "execution_count": null,
   "id": "fb4e27bc",
   "metadata": {
    "execution": {
     "iopub.status.busy": "2023-10-23T01:30:13.384833Z",
     "iopub.status.idle": "2023-10-23T01:30:13.385046Z",
     "shell.execute_reply": "2023-10-23T01:30:13.384950Z",
     "shell.execute_reply.started": "2023-10-23T01:30:13.384939Z"
    }
   },
   "outputs": [],
   "source": [
    "# Creating a new list odd_num from odd numbers\n",
    "# Using a list comprehension\n",
    "\n",
    "numbers = [0, 1, 2, 3, 4, 5, 6, 7, 8, 9, 10]\n",
    "\n",
    "odd_num = [number for number in numbers if number % 2 == 1]\n",
    "print(odd_num)"
   ]
  },
  {
   "cell_type": "code",
   "execution_count": null,
   "id": "42e5a19b",
   "metadata": {
    "execution": {
     "iopub.status.busy": "2023-10-23T01:30:13.385774Z",
     "iopub.status.idle": "2023-10-23T01:30:13.385981Z",
     "shell.execute_reply": "2023-10-23T01:30:13.385888Z",
     "shell.execute_reply.started": "2023-10-23T01:30:13.385877Z"
    }
   },
   "outputs": [],
   "source": [
    "# Create a new list that only includes first names\n",
    "# Using a list comprehension\n",
    "\n",
    "people = ['Aaron Aston',\n",
    "         'Brianna Barton',\n",
    "         'Carla Cameron',\n",
    "         'Delia Darcy',\n",
    "         'Evelyn Elgin',\n",
    "         'Frederick Federov',\n",
    "         'Gaston Garbo']\n",
    "\n",
    "friends = [name.split()[0] for name in people]\n",
    "\n",
    "print(friends)"
   ]
  },
  {
   "cell_type": "code",
   "execution_count": null,
   "id": "40125e42",
   "metadata": {
    "execution": {
     "iopub.status.busy": "2023-10-23T01:30:13.386722Z",
     "iopub.status.idle": "2023-10-23T01:30:13.386928Z",
     "shell.execute_reply": "2023-10-23T01:30:13.386834Z",
     "shell.execute_reply.started": "2023-10-23T01:30:13.386823Z"
    }
   },
   "outputs": [],
   "source": [
    "# Create a list that only contains the names that start with the letter 'A'\n",
    "# Using a for loop\n",
    "names = [\n",
    "    ['Abby', 'Bella','Cecilia'],\n",
    "    ['Alex','Beatrice','Cynthia','David']\n",
    "]\n",
    "\n",
    "a_name = []\n",
    "for sublist in names:\n",
    "    for name in sublist:\n",
    "        if name[0] == 'A':\n",
    "            a_name.append(name)\n",
    "print(a_name)"
   ]
  },
  {
   "cell_type": "code",
   "execution_count": null,
   "id": "32bd7f66",
   "metadata": {
    "execution": {
     "iopub.status.busy": "2023-10-23T01:30:13.387641Z",
     "iopub.status.idle": "2023-10-23T01:30:13.387855Z",
     "shell.execute_reply": "2023-10-23T01:30:13.387760Z",
     "shell.execute_reply.started": "2023-10-23T01:30:13.387749Z"
    }
   },
   "outputs": [],
   "source": [
    "# Create a list that only contains the names that start with the letter 'A'\n",
    "# Using a list comprehension\n",
    "\n",
    "a_name = [name for sublist in names for name in sublist if name[0] == 'A']\n",
    "print(a_name)"
   ]
  },
  {
   "cell_type": "code",
   "execution_count": null,
   "id": "fa8d61db",
   "metadata": {
    "execution": {
     "iopub.status.busy": "2023-10-23T01:30:13.388676Z",
     "iopub.status.idle": "2023-10-23T01:30:13.388981Z",
     "shell.execute_reply": "2023-10-23T01:30:13.388878Z",
     "shell.execute_reply.started": "2023-10-23T01:30:13.388867Z"
    }
   },
   "outputs": [],
   "source": [
    "# Create a new dictionary where all prices are 15% higher\n",
    "store_prices = {\n",
    "    \"milk\": 3.49,\n",
    "    \"egg\": 5.29,\n",
    "    \"bread\": 2.99,\n",
    "    \"spinach\": 1.99,\n",
    "    \"lettuce\": 2.35,\n",
    "    \"banana\": 0.99\n",
    "}\n",
    "\n",
    "new_prices = {item : round(price * 1.15, 2) for (item, price) in store_prices.items()}\n",
    "pprint(new_prices)"
   ]
  },
  {
   "cell_type": "code",
   "execution_count": null,
   "id": "b4e11674",
   "metadata": {
    "execution": {
     "iopub.status.busy": "2023-10-23T01:30:13.389754Z",
     "iopub.status.idle": "2023-10-23T01:30:13.389970Z",
     "shell.execute_reply": "2023-10-23T01:30:13.389872Z",
     "shell.execute_reply.started": "2023-10-23T01:30:13.389861Z"
    },
    "tags": []
   },
   "outputs": [],
   "source": [
    "# Write a set comprehension that creates a set of potential answers\n",
    "\n",
    "words = {'carbon',\n",
    "         'monkey',\n",
    "         'rabbit',\n",
    "         'theory',\n",
    "         'grist',\n",
    "         'farmer',\n",
    "         'pillow',\n",
    "         'exist',\n",
    "         'frisk',\n",
    "         'harbor',\n",
    "         'prism'\n",
    "        }\n",
    "\n",
    "answers = {word for word in words if word[2] == 'i' and word[3] == 's'}         \n",
    "print(answers)"
   ]
  },
  {
   "cell_type": "code",
   "execution_count": null,
   "id": "51ad4759-7356-477d-9d5d-2e8b3ff2cbf8",
   "metadata": {
    "execution": {
     "iopub.status.busy": "2023-10-23T01:30:13.390574Z",
     "iopub.status.idle": "2023-10-23T01:30:13.390784Z",
     "shell.execute_reply": "2023-10-23T01:30:13.390688Z",
     "shell.execute_reply.started": "2023-10-23T01:30:13.390678Z"
    },
    "tags": []
   },
   "outputs": [],
   "source": [
    "# Write additional set comprehensions to eliminate answers that contain the letters \"P\", \"R\", or \"M\"\n",
    "\n",
    "answers = {word for word in answers if 'p' not in word and 'r' not in word and 'm' not in word}\n",
    "print(answers)"
   ]
  }
 ],
 "metadata": {
  "kernelspec": {
   "display_name": "Python 3 (ipykernel)",
   "language": "python",
   "name": "python3"
  },
  "language_info": {
   "codemirror_mode": {
    "name": "ipython",
    "version": 3
   },
   "file_extension": ".py",
   "mimetype": "text/x-python",
   "name": "python",
   "nbconvert_exporter": "python",
   "pygments_lexer": "ipython3",
   "version": "3.10.6"
  },
  "toc": {
   "base_numbering": 1,
   "nav_menu": {},
   "number_sections": true,
   "sideBar": true,
   "skip_h1_title": true,
   "title_cell": "Table of Contents",
   "title_sidebar": "Contents",
   "toc_cell": false,
   "toc_position": {},
   "toc_section_display": true,
   "toc_window_display": false
  }
 },
 "nbformat": 4,
 "nbformat_minor": 5
}
