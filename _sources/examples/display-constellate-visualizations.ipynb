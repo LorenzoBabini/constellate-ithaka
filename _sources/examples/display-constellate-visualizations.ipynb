{
 "cells": [
  {
   "cell_type": "markdown",
   "id": "af04f9ab",
   "metadata": {},
   "source": [
    "## Displaying Constellate visualizations in a notebook\n",
    "\n",
    "This notebook demonstrates how to use the Constellate client library to generate visualizations that match the Constellate web application. \n",
    "\n",
    "First, import the constellate client charting module."
   ]
  },
  {
   "cell_type": "code",
   "execution_count": 10,
   "id": "2e8cb6c8",
   "metadata": {
    "scrolled": true
   },
   "outputs": [],
   "source": [
    "from constellate import charts"
   ]
  },
  {
   "cell_type": "markdown",
   "id": "65d59a5f",
   "metadata": {},
   "source": [
    "Display the documentation from the client library that demonstrates the different ways visualizations can be embedded in a notebook. "
   ]
  },
  {
   "cell_type": "code",
   "execution_count": 11,
   "id": "194ae79a",
   "metadata": {},
   "outputs": [],
   "source": [
    "charts?"
   ]
  },
  {
   "cell_type": "markdown",
   "id": "c874b301",
   "metadata": {},
   "source": [
    "Create a sample query using the [Constellate search syntax](https://constellate.org/docs/constellate-search-syntax). A dataset id can also be used. Simply replace the q variable here with a dataset id. \n",
    "\n",
    "[Capsaicin](https://en.wikipedia.org/wiki/Capsaicin) is chemical compound found in chilli peppers. It plays an important role in the research of the [2021 Nobel Prize in Medicine](https://www.nobelprize.org/prizes/medicine/2021/press-release/), David Julius and Ardem Patapoutian. "
   ]
  },
  {
   "cell_type": "code",
   "execution_count": 3,
   "id": "a9b82453",
   "metadata": {},
   "outputs": [],
   "source": [
    "q = {\"keyword\": \"capsaicin\", \"start\": 1971}"
   ]
  },
  {
   "cell_type": "markdown",
   "id": "9d7379c1",
   "metadata": {},
   "source": [
    "Display a bar plot showing the documents over time matching the query. "
   ]
  },
  {
   "cell_type": "code",
   "execution_count": 12,
   "id": "6e790c78",
   "metadata": {
    "scrolled": true
   },
   "outputs": [
    {
     "data": {
      "text/html": [
       "<iframe src=\"https://constellate.org/charts/documents-over-time/?keyword=capsaicin&start=1971&unigrams=julius%2Cpatapoutian\" height=\"600\" width=\"800\" frameborder=\"0\"/><br/><pre>https://constellate.org/charts/documents-over-time/?keyword=capsaicin&start=1971&unigrams=julius%2Cpatapoutian</pre>"
      ],
      "text/plain": [
       "<IPython.core.display.HTML object>"
      ]
     },
     "metadata": {},
     "output_type": "display_data"
    }
   ],
   "source": [
    "charts.documents_over_time(q)"
   ]
  },
  {
   "cell_type": "markdown",
   "id": "3d28ec62",
   "metadata": {},
   "source": [
    "Display a word bubble visualation of significant key phrases. This plot is interactive. Click on a bubble."
   ]
  },
  {
   "cell_type": "code",
   "execution_count": 13,
   "id": "5196a63d",
   "metadata": {},
   "outputs": [
    {
     "data": {
      "text/html": [
       "<iframe src=\"https://constellate.org/charts/keyphrases/?keyword=capsaicin&start=1971&unigrams=julius%2Cpatapoutian\" height=\"600\" width=\"800\" frameborder=\"0\"/><br/><pre>https://constellate.org/charts/keyphrases/?keyword=capsaicin&start=1971&unigrams=julius%2Cpatapoutian</pre>"
      ],
      "text/plain": [
       "<IPython.core.display.HTML object>"
      ]
     },
     "metadata": {},
     "output_type": "display_data"
    }
   ],
   "source": [
    "charts.keyphrases(q)"
   ]
  },
  {
   "cell_type": "markdown",
   "id": "b46be49a",
   "metadata": {},
   "source": [
    "Display a line plot showing document categories over time. "
   ]
  },
  {
   "cell_type": "code",
   "execution_count": 15,
   "id": "6cf76d07",
   "metadata": {
    "scrolled": false
   },
   "outputs": [
    {
     "data": {
      "text/html": [
       "<iframe src=\"https://constellate.org/charts/categories-over-time/?keyword=capsaicin&start=1971&unigrams=julius%2Cpatapoutian\" height=\"600\" width=\"800\" frameborder=\"0\"/><br/><pre>https://constellate.org/charts/categories-over-time/?keyword=capsaicin&start=1971&unigrams=julius%2Cpatapoutian</pre>"
      ],
      "text/plain": [
       "<IPython.core.display.HTML object>"
      ]
     },
     "metadata": {},
     "output_type": "display_data"
    }
   ],
   "source": [
    "charts.categories_over_time(q)"
   ]
  },
  {
   "cell_type": "markdown",
   "id": "efb367b0",
   "metadata": {},
   "source": [
    "Plot the occurrence of terms over time. You can also use the input box to change the terms after the plot is renedred."
   ]
  },
  {
   "cell_type": "code",
   "execution_count": 16,
   "id": "298a0adc",
   "metadata": {},
   "outputs": [
    {
     "data": {
      "text/html": [
       "<iframe src=\"https://constellate.org/charts/term-frequency/?keyword=capsaicin&start=1971&unigrams=julius%2Cpatapoutian\" height=\"600\" width=\"800\" frameborder=\"0\"/><br/><pre>https://constellate.org/charts/term-frequency/?keyword=capsaicin&start=1971&unigrams=julius%2Cpatapoutian</pre>"
      ],
      "text/plain": [
       "<IPython.core.display.HTML object>"
      ]
     },
     "metadata": {},
     "output_type": "display_data"
    }
   ],
   "source": [
    "charts.term_frequency(q, terms=[\"julius\", \"patapoutian\"])"
   ]
  },
  {
   "cell_type": "code",
   "execution_count": null,
   "id": "bca1c42f",
   "metadata": {},
   "outputs": [],
   "source": []
  },
  {
   "cell_type": "markdown",
   "id": "c7e71fea",
   "metadata": {},
   "source": [
    "A word cloud of keyphrases is also available, although currently not available in the Constellate application. "
   ]
  },
  {
   "cell_type": "code",
   "execution_count": 17,
   "id": "7d7d1811",
   "metadata": {},
   "outputs": [
    {
     "data": {
      "text/html": [
       "<iframe src=\"https://constellate.org/charts/word-cloud/?keyword=capsaicin&start=1971&unigrams=julius%2Cpatapoutian\" height=\"600\" width=\"800\" frameborder=\"0\"/><br/><pre>https://constellate.org/charts/word-cloud/?keyword=capsaicin&start=1971&unigrams=julius%2Cpatapoutian</pre>"
      ],
      "text/plain": [
       "<IPython.core.display.HTML object>"
      ]
     },
     "metadata": {},
     "output_type": "display_data"
    }
   ],
   "source": [
    "charts.word_cloud(q)"
   ]
  },
  {
   "cell_type": "code",
   "execution_count": null,
   "id": "1b6f1a68",
   "metadata": {},
   "outputs": [],
   "source": []
  }
 ],
 "metadata": {
  "kernelspec": {
   "display_name": "Python 3 (ipykernel)",
   "language": "python",
   "name": "python3"
  },
  "language_info": {
   "codemirror_mode": {
    "name": "ipython",
    "version": 3
   },
   "file_extension": ".py",
   "mimetype": "text/x-python",
   "name": "python",
   "nbconvert_exporter": "python",
   "pygments_lexer": "ipython3",
   "version": "3.8.9"
  },
  "toc": {
   "base_numbering": 1,
   "nav_menu": {},
   "number_sections": true,
   "sideBar": true,
   "skip_h1_title": false,
   "title_cell": "Table of Contents",
   "title_sidebar": "Contents",
   "toc_cell": false,
   "toc_position": {},
   "toc_section_display": true,
   "toc_window_display": false
  }
 },
 "nbformat": 4,
 "nbformat_minor": 5
}
